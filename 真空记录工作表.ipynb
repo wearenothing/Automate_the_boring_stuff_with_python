{
 "cells": [
  {
   "cell_type": "code",
   "execution_count": 122,
   "metadata": {
    "collapsed": true
   },
   "outputs": [],
   "source": [
    "import openpyxl\n",
    "import datetime\n",
    "from openpyxl.styles import Font, Color, Alignment, Border, Side\n",
    "from openpyxl.utils import get_column_letter, column_index_from_string"
   ]
  },
  {
   "cell_type": "code",
   "execution_count": 123,
   "metadata": {
    "pycharm": {
     "name": "#%%\n"
    }
   },
   "outputs": [
    {
     "data": {
      "text/plain": [
       "['Sheet']"
      ]
     },
     "execution_count": 123,
     "metadata": {},
     "output_type": "execute_result"
    }
   ],
   "source": [
    "wb = openpyxl.Workbook()\n",
    "wb.sheetnames"
   ]
  },
  {
   "cell_type": "code",
   "execution_count": 124,
   "metadata": {
    "pycharm": {
     "name": "#%%\n"
    }
   },
   "outputs": [
    {
     "data": {
      "text/plain": [
       "['真空运行', '烘烤温度']"
      ]
     },
     "execution_count": 124,
     "metadata": {},
     "output_type": "execute_result"
    }
   ],
   "source": [
    "sheet0 = wb.active\n",
    "sheet0.title = '真空运行'\n",
    "sheet1 = wb.create_sheet('烘烤温度')\n",
    "wb.sheetnames"
   ]
  },
  {
   "cell_type": "code",
   "execution_count": 125,
   "metadata": {
    "pycharm": {
     "name": "#%%\n"
    }
   },
   "outputs": [],
   "source": [
    "sheet0.merge_cells('A1:Q2')\n",
    "sheet0['A1'] = \"2023年春季EAST真空运行实验数据记录表\""
   ]
  },
  {
   "cell_type": "code",
   "execution_count": 126,
   "metadata": {
    "pycharm": {
     "name": "#%%\n"
    }
   },
   "outputs": [],
   "source": [
    "sheet0['A3'] = '日期'\n",
    "sheet0['B3'] = (datetime.date.today() - datetime.timedelta(days=1)).isoformat()  #time.strftime(\"%Y%m%d\")\n",
    "sheet0['C3'] = '值班人员'\n",
    "sheet0.merge_cells('D3:Q3')\n",
    "# sheet0['D3'] = 'People'"
   ]
  },
  {
   "cell_type": "code",
   "execution_count": 127,
   "metadata": {
    "pycharm": {
     "name": "#%%\n"
    }
   },
   "outputs": [],
   "source": [
    "sheet0.merge_cells('A4:A5')\n",
    "sheet0.merge_cells('B4:C4')\n",
    "sheet0.merge_cells('D4:E4')\n",
    "sheet0.merge_cells('N4:P4')\n",
    "sheet0.merge_cells('Q4:Q5')\n",
    "sheet0['A4'] = '时间'\n",
    "sheet0['B4'] = '内真空'\n",
    "sheet0['D4'] = '外真空'\n",
    "sheet0['F4'] = '传输线'\n",
    "sheet0['G4'] = '5对引线罐'\n",
    "sheet0['H4'] = '5对传输线'\n",
    "sheet0['I4'] = '8对引线罐'\n",
    "sheet0['J4'] = '8对传输线'\n",
    "sheet0['K4'] = '阀箱'\n",
    "sheet0['L4'] = '新阀箱'\n",
    "sheet0['M4'] = '低温传输线'\n",
    "sheet0['N4'] = '电子回旋'\n",
    "sheet0['Q4'] = '记录人'\n"
   ]
  },
  {
   "cell_type": "code",
   "execution_count": 128,
   "metadata": {
    "pycharm": {
     "name": "#%%\n"
    }
   },
   "outputs": [],
   "source": [
    "sheet0['B5'] = 'G1.1'\n",
    "sheet0['C5'] = 'G1.7'\n",
    "sheet0['D5'] = 'G2.3'\n",
    "sheet0['E5'] = 'G2.4'\n",
    "sheet0['F5'] = 'G5.1'\n",
    "sheet0['G5'] = 'G5.4'\n",
    "sheet0['H5'] = 'G5.7'\n",
    "sheet0['I5'] = 'G5.3'\n",
    "sheet0['J5'] = 'G5.8'\n",
    "sheet0['K5'] = 'G5.5'\n",
    "sheet0['L5'] = 'G5.2'\n",
    "sheet0['M5'] = 'G5.6'\n",
    "sheet0['N5'] = 'GE2.1'\n",
    "sheet0['O5'] = 'GE3.1'\n",
    "sheet0['P5'] = 'GE4.1'"
   ]
  },
  {
   "cell_type": "code",
   "execution_count": 129,
   "metadata": {
    "pycharm": {
     "name": "#%%\n"
    }
   },
   "outputs": [],
   "source": [
    "for i in range(6, 18):\n",
    "    sheet0[f'A{i}'] = datetime.time(hour=i + 2).strftime(\"%H:%M\")\n",
    "# sheet0['A6'] = '8:00'\n",
    "#...\n",
    "# sheet0['A17'] = '19:00'"
   ]
  },
  {
   "cell_type": "code",
   "execution_count": 130,
   "metadata": {
    "pycharm": {
     "name": "#%%\n"
    }
   },
   "outputs": [],
   "source": [
    "# merge row18:row30 form A to Q\n",
    "for i in range(18, 31):\n",
    "    sheet0.merge_cells(f'A{i}:Q{i}')"
   ]
  },
  {
   "cell_type": "code",
   "execution_count": 131,
   "metadata": {
    "pycharm": {
     "name": "#%%\n"
    }
   },
   "outputs": [],
   "source": [
    "sheet0.merge_cells('A31:Q32')\n",
    "sheet0['A31'] = '=A1'"
   ]
  },
  {
   "cell_type": "code",
   "execution_count": 132,
   "metadata": {
    "pycharm": {
     "name": "#%%\n"
    }
   },
   "outputs": [],
   "source": [
    "sheet0['A33'] = '日期'\n",
    "sheet0['B33'] = '=B3'  #time.isoformat\n",
    "sheet0['C33'] = '值班人员'\n",
    "sheet0.merge_cells('D33:Q33')\n",
    "sheet0['D33'] = '=D3'"
   ]
  },
  {
   "cell_type": "code",
   "execution_count": 133,
   "metadata": {
    "pycharm": {
     "name": "#%%\n"
    }
   },
   "outputs": [],
   "source": [
    "sheet0.merge_cells('A34:A35')\n",
    "sheet0.merge_cells('B34:C34')\n",
    "sheet0.merge_cells('D34:E34')\n",
    "sheet0.merge_cells('N34:P34')\n",
    "sheet0.merge_cells('Q34:Q35')\n",
    "sheet0['A34'] = '时间'\n",
    "sheet0['B34'] = '内真空'\n",
    "sheet0['D34'] = '外真空'\n",
    "sheet0['F34'] = '传输线'\n",
    "sheet0['G34'] = '5对引线罐'\n",
    "sheet0['H34'] = '5对传输线'\n",
    "sheet0['I34'] = '8对引线罐'\n",
    "sheet0['J34'] = '8对传输线'\n",
    "sheet0['K34'] = '阀箱'\n",
    "sheet0['L34'] = '新阀箱'\n",
    "sheet0['M34'] = '低温传输线'\n",
    "sheet0['N34'] = '电子回旋'\n",
    "sheet0['Q34'] = '记录人'"
   ]
  },
  {
   "cell_type": "code",
   "execution_count": 134,
   "metadata": {
    "pycharm": {
     "name": "#%%\n"
    }
   },
   "outputs": [],
   "source": [
    "sheet0['B35'] = 'G1.1'\n",
    "sheet0['C35'] = 'G1.7'\n",
    "sheet0['D35'] = 'G2.3'\n",
    "sheet0['E35'] = 'G2.4'\n",
    "sheet0['F35'] = 'G5.1'\n",
    "sheet0['G35'] = 'G5.4'\n",
    "sheet0['H35'] = 'G5.7'\n",
    "sheet0['I35'] = 'G5.3'\n",
    "sheet0['J35'] = 'G5.8'\n",
    "sheet0['K35'] = 'G5.5'\n",
    "sheet0['L35'] = 'G5.2'\n",
    "sheet0['M35'] = 'G5.6'\n",
    "sheet0['N35'] = 'GE2.1'\n",
    "sheet0['O35'] = 'GE3.1'\n",
    "sheet0['P35'] = 'GE4.1'"
   ]
  },
  {
   "cell_type": "code",
   "execution_count": 135,
   "metadata": {
    "pycharm": {
     "name": "#%%\n"
    }
   },
   "outputs": [],
   "source": [
    "for i in range(36, 48):\n",
    "    sheet0[f'A{i}'] = datetime.time(hour=(i - 16) % 24).strftime('%H:%M')\n",
    "# sheet0['A6'] = '8:00'\n",
    "#...\n",
    "# sheet0['A17'] = '19:00'"
   ]
  },
  {
   "cell_type": "code",
   "execution_count": 136,
   "metadata": {
    "pycharm": {
     "name": "#%%\n"
    }
   },
   "outputs": [],
   "source": [
    "# merge row18:row30 form A to Q\n",
    "for i in range(48, 58):\n",
    "    sheet0.merge_cells(f'A{i}:Q{i}')"
   ]
  },
  {
   "cell_type": "markdown",
   "metadata": {
    "pycharm": {
     "name": "#%% md\n"
    }
   },
   "source": [
    "# 2.设置样式"
   ]
  },
  {
   "cell_type": "markdown",
   "metadata": {
    "pycharm": {
     "name": "#%% md\n"
    }
   },
   "source": [
    "## 2.1 设置列宽和行高"
   ]
  },
  {
   "cell_type": "code",
   "execution_count": 137,
   "metadata": {
    "pycharm": {
     "name": "#%%\n"
    }
   },
   "outputs": [],
   "source": [
    "sheet0.column_dimensions['A'].width = 11.67\n",
    "sheet0.column_dimensions['B'].width = 18.44\n",
    "sheet0.column_dimensions['C'].width = 13.78\n",
    "sheet0.column_dimensions['D'].width = 8.11\n",
    "sheet0.column_dimensions['E'].width = 8.11\n",
    "sheet0.column_dimensions['F'].width = 10.44\n",
    "sheet0.column_dimensions['G'].width = 15.67\n",
    "sheet0.column_dimensions['H'].width = 15.67\n",
    "sheet0.column_dimensions['I'].width = 15.67\n",
    "sheet0.column_dimensions['J'].width = 15.67\n",
    "sheet0.column_dimensions['K'].width = 8.11\n",
    "sheet0.column_dimensions['L'].width = 10.44\n",
    "sheet0.column_dimensions['M'].width = 17.22\n",
    "sheet0.column_dimensions['N'].width = 8.11\n",
    "sheet0.column_dimensions['O'].width = 8.11\n",
    "sheet0.column_dimensions['P'].width = 8.11\n",
    "sheet0.column_dimensions['Q'].width = 10.44"
   ]
  },
  {
   "cell_type": "code",
   "execution_count": 138,
   "metadata": {
    "pycharm": {
     "name": "#%%\n"
    }
   },
   "outputs": [],
   "source": [
    "for i in range(18, 31):\n",
    "    sheet0.row_dimensions[i].height = 18\n",
    "for i in range(48, 58):\n",
    "    sheet0.row_dimensions[i].height = 18"
   ]
  },
  {
   "cell_type": "markdown",
   "metadata": {
    "pycharm": {
     "name": "#%% md\n"
    }
   },
   "source": [
    "## 2.2 设置字体样式"
   ]
  },
  {
   "cell_type": "code",
   "execution_count": 139,
   "metadata": {
    "pycharm": {
     "name": "#%%\n"
    }
   },
   "outputs": [],
   "source": [
    "font1 = Font(name=\"宋体\", size=20, bold=True)\n",
    "sheet0['A1'].font = font1\n",
    "sheet0['A31'].font = font1\n"
   ]
  },
  {
   "cell_type": "code",
   "execution_count": 140,
   "metadata": {
    "pycharm": {
     "name": "#%%\n"
    }
   },
   "outputs": [],
   "source": [
    "font2 = Font(name=\"宋体\", size=16, bold=True)\n",
    "for rowOfCells in sheet0['A3:D3']:\n",
    "    for cell in rowOfCells:\n",
    "        cell.font = font2\n",
    "# sheet0.row_dimensions[3].font = font2\n",
    "for rowOfCells in sheet0['A33:D33']:\n",
    "    for cell in rowOfCells:\n",
    "        cell.font = font2\n",
    "# sheet0.row_dimensions[4].font = font2\n",
    "for rowOfCells in sheet0['A4:Q4']:\n",
    "    for cell in rowOfCells:\n",
    "        cell.font = font2\n",
    "for rowOfCells in sheet0['A34:Q34']:\n",
    "    for cell in rowOfCells:\n",
    "        cell.font = font2"
   ]
  },
  {
   "cell_type": "code",
   "execution_count": 141,
   "metadata": {
    "pycharm": {
     "name": "#%%\n"
    }
   },
   "outputs": [],
   "source": [
    "font3 = Font(name=\"宋体\", size=13, bold=True)\n",
    "\n",
    "sheet0.row_dimensions[5].font = font3\n",
    "for rowOfCells in sheet0['B5:P5']:\n",
    "    for cell in rowOfCells:\n",
    "        cell.font = font3\n",
    "for rowOfCells in sheet0['B35:P35']:\n",
    "    for cell in rowOfCells:\n",
    "        cell.font = font3\n",
    "for rowOfCells in sheet0['A6:A17']:\n",
    "    for cell in rowOfCells:\n",
    "        cell.font = font3\n",
    "for rowOfCells in sheet0['A36:A47']:\n",
    "    for cell in rowOfCells:\n",
    "        cell.font = font3"
   ]
  },
  {
   "cell_type": "code",
   "execution_count": 142,
   "metadata": {
    "pycharm": {
     "name": "#%%\n"
    }
   },
   "outputs": [],
   "source": [
    "font4 = Font(name=\"宋体\", size=11, bold=False)\n",
    "for rowOfCells in sheet0['B6:P17']:\n",
    "    for cell in rowOfCells:\n",
    "        cell.font = font4\n",
    "for rowOfCells in sheet0['B36:P47']:\n",
    "    for cell in rowOfCells:\n",
    "        cell.font = font4"
   ]
  },
  {
   "cell_type": "markdown",
   "metadata": {
    "pycharm": {
     "name": "#%% md\n"
    }
   },
   "source": [
    "## 2.3 设置对齐"
   ]
  },
  {
   "cell_type": "code",
   "execution_count": 143,
   "metadata": {
    "pycharm": {
     "name": "#%%\n"
    }
   },
   "outputs": [],
   "source": [
    "align = Alignment(horizontal='center', vertical='center')\n",
    "sheet0['A1'].alignment = align\n",
    "sheet0['A31'].alignment = align"
   ]
  },
  {
   "cell_type": "code",
   "execution_count": 144,
   "metadata": {
    "pycharm": {
     "name": "#%%\n"
    }
   },
   "outputs": [],
   "source": [
    "for rowOfCells in sheet0['A3:Q17']:\n",
    "    for cell in rowOfCells:\n",
    "        cell.alignment = align\n",
    "for rowOfCells in sheet0['A33:Q47']:\n",
    "    for cell in rowOfCells:\n",
    "        cell.alignment = align"
   ]
  },
  {
   "cell_type": "markdown",
   "metadata": {
    "pycharm": {
     "name": "#%% md\n"
    }
   },
   "source": [
    "# 3. 烘烤温度"
   ]
  },
  {
   "cell_type": "markdown",
   "metadata": {
    "pycharm": {
     "name": "#%% md\n"
    }
   },
   "source": [
    "## 3.1 设置固定值\n"
   ]
  },
  {
   "cell_type": "code",
   "execution_count": 145,
   "metadata": {
    "pycharm": {
     "name": "#%%\n"
    }
   },
   "outputs": [],
   "source": [
    "sheet1.merge_cells('A1:O2')\n",
    "sheet1['A1'] = '2023年春季EAST真空烘烤温度记录表'\n",
    "sheet1['A3'] = '日期'\n",
    "sheet1['B3'] = '=真空运行!B3'\n",
    "sheet1['C3'] = '值班人员'\n",
    "sheet1.merge_cells('D3:Q3')\n",
    "sheet1['D3'] = '=真空运行!D3'\n"
   ]
  },
  {
   "cell_type": "code",
   "execution_count": 146,
   "metadata": {
    "pycharm": {
     "name": "#%%\n"
    }
   },
   "outputs": [],
   "source": [
    "sheet1.merge_cells('A4:A5')\n",
    "sheet1.merge_cells('C4:D4')\n",
    "sheet1.merge_cells('E4:I4')\n",
    "sheet1.merge_cells('M4:N4')\n",
    "sheet1.merge_cells('O4:O5')\n",
    "sheet1['A4'] = '时间'\n",
    "sheet1['B4'] = '硼化水管'\n",
    "sheet1['C4'] = '夹层'\n",
    "sheet1['E4'] = '第一壁'\n",
    "\n",
    "sheet1['J4'] = '上窗口'\n",
    "sheet1['K4'] = '水平窗'\n",
    "sheet1['L4'] = '下窗口'\n",
    "sheet1['M4'] = '抽气管道'\n",
    "sheet1['O4'] = '记录人'\n"
   ]
  },
  {
   "cell_type": "code",
   "execution_count": 147,
   "metadata": {
    "pycharm": {
     "name": "#%%\n"
    }
   },
   "outputs": [],
   "source": [
    "sheet1['B5'] = 'TVVG'\n",
    "sheet1['C5'] = 'TVVI'\n",
    "sheet1['D5'] = 'TVVM'\n",
    "sheet1['E5'] = 'THFM'\n",
    "sheet1['F5'] = 'TPG1'\n",
    "sheet1['G5'] = 'TPE18'\n",
    "sheet1['H5'] = 'TPO3'\n",
    "sheet1['I5'] = 'TPO15'\n",
    "sheet1['J5'] = 'TVUP'\n",
    "sheet1['K5'] = 'TVHF'\n",
    "sheet1['L5'] = 'TVLP'\n",
    "sheet1['M5'] = 'T2'\n",
    "sheet1['N5'] = 'T13'\n"
   ]
  },
  {
   "cell_type": "code",
   "execution_count": 148,
   "metadata": {
    "pycharm": {
     "name": "#%%\n"
    }
   },
   "outputs": [],
   "source": [
    "for i in range(6, 30):\n",
    "    sheet1[f'A{i}'] = datetime.time(hour=(i + 2 ) % 24).strftime('%H:%M')"
   ]
  },
  {
   "cell_type": "markdown",
   "metadata": {
    "pycharm": {
     "name": "#%% md\n"
    }
   },
   "source": [
    "## 3.2 设置行高和列高"
   ]
  },
  {
   "cell_type": "code",
   "execution_count": 149,
   "metadata": {
    "pycharm": {
     "name": "#%%\n"
    }
   },
   "outputs": [],
   "source": [
    "# sheet1.column_dimensions['A'].width = 11.67\n",
    "sheet1.column_dimensions['B'].width = 16.9\n",
    "sheet1.column_dimensions['C'].width = 12.5\n",
    "# sheet1.column_dimensions['D'].width = 8.11\n",
    "# sheet1.column_dimensions['E'].width = 8.11\n",
    "# sheet1.column_dimensions['F'].width = 10.44\n",
    "# sheet1.column_dimensions['G'].width = 15.67\n",
    "# sheet1.column_dimensions['H'].width = 15.67\n",
    "# sheet1.column_dimensions['I'].width = 15.67\n",
    "# sheet1.column_dimensions['J'].width = 15.67\n",
    "# sheet1.column_dimensions['K'].width = 8.11\n",
    "# sheet1.column_dimensions['L'].width = 10.44\n",
    "# sheet1.column_dimensions['M'].width = 17.22\n",
    "# sheet1.column_dimensions['N'].width = 8.11\n",
    "# sheet1.column_dimensions['O'].width = 8.11\n",
    "# sheet1.column_dimensions['P'].width = 8.11\n",
    "# sheet1.column_dimensions['Q'].width = 10.44"
   ]
  },
  {
   "cell_type": "markdown",
   "metadata": {
    "pycharm": {
     "name": "#%% md\n"
    }
   },
   "source": [
    "## 3.3 设置样式"
   ]
  },
  {
   "cell_type": "code",
   "execution_count": 150,
   "metadata": {
    "pycharm": {
     "name": "#%%\n"
    }
   },
   "outputs": [],
   "source": [
    "\n",
    "sheet1['A1'].font = font1\n",
    "\n",
    "for rowOfCells in sheet1['A3:D3']:\n",
    "    for cell in rowOfCells:\n",
    "        cell.font = font2\n",
    "\n",
    "\n",
    "for rowOfCells in sheet1['A4:O4']:\n",
    "    for cell in rowOfCells:\n",
    "        cell.font = font2\n",
    "\n",
    "\n",
    "for rowOfCells in sheet1['B5:N5']:\n",
    "    for cell in rowOfCells:\n",
    "        cell.font = font3\n",
    "\n",
    "\n",
    "for rowOfCells in sheet1['A6:A29']:\n",
    "    for cell in rowOfCells:\n",
    "        cell.font = font3"
   ]
  },
  {
   "cell_type": "markdown",
   "metadata": {
    "pycharm": {
     "name": "#%% md\n"
    }
   },
   "source": [
    "## 3.4 设置对齐"
   ]
  },
  {
   "cell_type": "code",
   "execution_count": 151,
   "metadata": {
    "pycharm": {
     "name": "#%%\n"
    }
   },
   "outputs": [],
   "source": [
    "for rowOfCells in sheet1['A1:O29']:\n",
    "    for cell in rowOfCells:\n",
    "        cell.alignment = align"
   ]
  },
  {
   "cell_type": "markdown",
   "metadata": {},
   "source": []
  },
  {
   "cell_type": "code",
   "execution_count": 152,
   "metadata": {
    "pycharm": {
     "name": "#%%\n"
    }
   },
   "outputs": [],
   "source": [
    "date_today = (datetime.date.today() - datetime.timedelta(days=1)).strftime('%Y%m%d')\n",
    "file_name = f'{date_today}真空记录运行表.xlsx'\n",
    "wb.save(file_name)"
   ]
  }
 ],
 "metadata": {
  "kernelspec": {
   "display_name": "Python 3 (ipykernel)",
   "language": "python",
   "name": "python3"
  },
  "language_info": {
   "codemirror_mode": {
    "name": "ipython",
    "version": 3
   },
   "file_extension": ".py",
   "mimetype": "text/x-python",
   "name": "python",
   "nbconvert_exporter": "python",
   "pygments_lexer": "ipython3",
   "version": "3.9.13"
  }
 },
 "nbformat": 4,
 "nbformat_minor": 1
}