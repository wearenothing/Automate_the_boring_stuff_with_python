{
 "cells": [
  {
   "cell_type": "code",
   "execution_count": 619,
   "metadata": {
    "collapsed": true
   },
   "outputs": [],
   "source": [
    "import openpyxl\n",
    "import datetime\n",
    "from openpyxl.styles import Font,Color,Alignment,Border,Side\n",
    "from openpyxl.utils import get_column_letter,column_index_from_string"
   ]
  },
  {
   "cell_type": "code",
   "execution_count": 620,
   "outputs": [
    {
     "data": {
      "text/plain": "['Sheet']"
     },
     "execution_count": 620,
     "metadata": {},
     "output_type": "execute_result"
    }
   ],
   "source": [
    "wb = openpyxl.Workbook()\n",
    "wb.sheetnames"
   ],
   "metadata": {
    "collapsed": false,
    "pycharm": {
     "name": "#%%\n"
    }
   }
  },
  {
   "cell_type": "code",
   "execution_count": 621,
   "outputs": [
    {
     "data": {
      "text/plain": "['真空运行', '烘烤温度']"
     },
     "execution_count": 621,
     "metadata": {},
     "output_type": "execute_result"
    }
   ],
   "source": [
    "sheet0 = wb.active\n",
    "sheet0.title = '真空运行'\n",
    "sheet1 = wb.create_sheet('烘烤温度')\n",
    "wb.sheetnames"
   ],
   "metadata": {
    "collapsed": false,
    "pycharm": {
     "name": "#%%\n"
    }
   }
  },
  {
   "cell_type": "code",
   "execution_count": 622,
   "outputs": [],
   "source": [
    "sheet0.merge_cells('A1:Q2')\n",
    "sheet0['A1'] = \"2023年春季EAST真空运行实验数据记录表\""
   ],
   "metadata": {
    "collapsed": false,
    "pycharm": {
     "name": "#%%\n"
    }
   }
  },
  {
   "cell_type": "code",
   "execution_count": 623,
   "outputs": [],
   "source": [
    "sheet0['A3'] ='日期'\n",
    "sheet0['B3'] = (datetime.date.today()-datetime.timedelta(days=1)).isoformat() #time.strftime(\"%Y%m%d\")\n",
    "sheet0['C3'] = '值班人员'\n",
    "sheet0.merge_cells('D3:Q3')\n",
    "# sheet0['D3'] = 'People'"
   ],
   "metadata": {
    "collapsed": false,
    "pycharm": {
     "name": "#%%\n"
    }
   }
  },
  {
   "cell_type": "code",
   "execution_count": 624,
   "outputs": [],
   "source": [
    "sheet0.merge_cells('A4:A5')\n",
    "sheet0.merge_cells('B4:C4')\n",
    "sheet0.merge_cells('D4:E4')\n",
    "sheet0.merge_cells('N4:P4')\n",
    "sheet0.merge_cells('Q4:Q5')\n",
    "sheet0['A4'] = '时间'\n",
    "sheet0['B4'] = '内真空'\n",
    "sheet0['D4'] = '外真空'\n",
    "sheet0['F4']='传输线'\n",
    "sheet0['G4']='5对引线罐'\n",
    "sheet0['H4']='5对传输线'\n",
    "sheet0['I4']='8对引线罐'\n",
    "sheet0['J4']='8对传输线'\n",
    "sheet0['K4']='阀箱'\n",
    "sheet0['L4']='新阀箱'\n",
    "sheet0['M4']='低温传输线'\n",
    "sheet0['N4'] = '电子回旋'\n",
    "sheet0['Q4'] = '记录人'\n"
   ],
   "metadata": {
    "collapsed": false,
    "pycharm": {
     "name": "#%%\n"
    }
   }
  },
  {
   "cell_type": "code",
   "execution_count": 625,
   "outputs": [],
   "source": [
    "sheet0['B5']='G1.1'\n",
    "sheet0['C5']='G1.7'\n",
    "sheet0['D5']='G2.3'\n",
    "sheet0['E5']='G2.4'\n",
    "sheet0['F5']='G5.1'\n",
    "sheet0['G5']='G5.4'\n",
    "sheet0['H5']='G5.7'\n",
    "sheet0['I5']='G5.3'\n",
    "sheet0['J5']='G5.8'\n",
    "sheet0['K5']='G5.5'\n",
    "sheet0['L5']='G5.2'\n",
    "sheet0['M5']='G5.6'\n",
    "sheet0['N5']='GE2.1'\n",
    "sheet0['O5']='GE3.1'\n",
    "sheet0['P5']='GE4.1'"
   ],
   "metadata": {
    "collapsed": false,
    "pycharm": {
     "name": "#%%\n"
    }
   }
  },
  {
   "cell_type": "code",
   "execution_count": 626,
   "outputs": [],
   "source": [
    "for i in range(6,18):\n",
    "    sheet0[f'A{i}'] = datetime.time(hour=i+2).strftime(\"%H:%M\")\n",
    "# sheet0['A6'] = '8:00'\n",
    "#...\n",
    "# sheet0['A17'] = '19:00'"
   ],
   "metadata": {
    "collapsed": false,
    "pycharm": {
     "name": "#%%\n"
    }
   }
  },
  {
   "cell_type": "code",
   "execution_count": 627,
   "outputs": [],
   "source": [
    "# merge row18:row30 form A to Q\n",
    "for i in range(18,31):\n",
    "    sheet0.merge_cells(f'A{i}:Q{i}')"
   ],
   "metadata": {
    "collapsed": false,
    "pycharm": {
     "name": "#%%\n"
    }
   }
  },
  {
   "cell_type": "code",
   "execution_count": 628,
   "outputs": [],
   "source": [
    "sheet0.merge_cells('A31:Q32')\n",
    "sheet0['A31'] = '=A1'"
   ],
   "metadata": {
    "collapsed": false,
    "pycharm": {
     "name": "#%%\n"
    }
   }
  },
  {
   "cell_type": "code",
   "execution_count": 629,
   "outputs": [],
   "source": [
    "sheet0['A33'] ='日期'\n",
    "sheet0['B33'] = '=B3'#time.isoformat\n",
    "sheet0['C33'] = '值班人员'\n",
    "sheet0.merge_cells('D33:Q33')\n",
    "sheet0['D33'] = '=D3'"
   ],
   "metadata": {
    "collapsed": false,
    "pycharm": {
     "name": "#%%\n"
    }
   }
  },
  {
   "cell_type": "code",
   "execution_count": 630,
   "outputs": [],
   "source": [
    "sheet0.merge_cells('A34:A35')\n",
    "sheet0.merge_cells('B34:C34')\n",
    "sheet0.merge_cells('D34:E34')\n",
    "sheet0.merge_cells('N34:P34')\n",
    "sheet0.merge_cells('Q34:Q35')\n",
    "sheet0['A34'] = '时间'\n",
    "sheet0['B34'] = '内真空'\n",
    "sheet0['D34'] = '外真空'\n",
    "sheet0['F34']='传输线'\n",
    "sheet0['G34']='5对引线罐'\n",
    "sheet0['H34']='5对传输线'\n",
    "sheet0['I34']='8对引线罐'\n",
    "sheet0['J34']='8对传输线'\n",
    "sheet0['K34']='阀箱'\n",
    "sheet0['L34']='新阀箱'\n",
    "sheet0['M34']='低温传输线'\n",
    "sheet0['N34'] = '电子回旋'\n",
    "sheet0['Q34'] = '记录人'"
   ],
   "metadata": {
    "collapsed": false,
    "pycharm": {
     "name": "#%%\n"
    }
   }
  },
  {
   "cell_type": "code",
   "execution_count": 631,
   "outputs": [],
   "source": [
    "sheet0['B35']='G1.1'\n",
    "sheet0['C35']='G1.7'\n",
    "sheet0['D35']='G2.3'\n",
    "sheet0['E35']='G2.4'\n",
    "sheet0['F35']='G5.1'\n",
    "sheet0['G35']='G5.4'\n",
    "sheet0['H35']='G5.7'\n",
    "sheet0['I35']='G5.3'\n",
    "sheet0['J35']='G5.8'\n",
    "sheet0['K35']='G5.5'\n",
    "sheet0['L35']='G5.2'\n",
    "sheet0['M35']='G5.6'\n",
    "sheet0['N35']='GE2.1'\n",
    "sheet0['O35']='GE3.1'\n",
    "sheet0['P35']='GE4.1'"
   ],
   "metadata": {
    "collapsed": false,
    "pycharm": {
     "name": "#%%\n"
    }
   }
  },
  {
   "cell_type": "code",
   "execution_count": 632,
   "outputs": [],
   "source": [
    "for i in range(36,48):\n",
    "    sheet0[f'A{i}'] = datetime.time(hour=(i-16)%24).strftime('%H:%M')\n",
    "# sheet0['A6'] = '8:00'\n",
    "#...\n",
    "# sheet0['A17'] = '19:00'"
   ],
   "metadata": {
    "collapsed": false,
    "pycharm": {
     "name": "#%%\n"
    }
   }
  },
  {
   "cell_type": "code",
   "execution_count": 633,
   "outputs": [],
   "source": [
    "# merge row18:row30 form A to Q\n",
    "for i in range(48, 58):\n",
    "    sheet0.merge_cells(f'A{i}:Q{i}')"
   ],
   "metadata": {
    "collapsed": false,
    "pycharm": {
     "name": "#%%\n"
    }
   }
  },
  {
   "cell_type": "markdown",
   "source": [
    "# 2.设置样式"
   ],
   "metadata": {
    "collapsed": false,
    "pycharm": {
     "name": "#%% md\n"
    }
   }
  },
  {
   "cell_type": "markdown",
   "source": [
    "## 2.1 设置列宽和行高"
   ],
   "metadata": {
    "collapsed": false,
    "pycharm": {
     "name": "#%% md\n"
    }
   }
  },
  {
   "cell_type": "code",
   "execution_count": 634,
   "outputs": [],
   "source": [
    "sheet0.column_dimensions['A'].width=11.67\n",
    "sheet0.column_dimensions['B'].width=18.44\n",
    "sheet0.column_dimensions['C'].width=13.78\n",
    "sheet0.column_dimensions['D'].width=8.11\n",
    "sheet0.column_dimensions['E'].width=8.11\n",
    "sheet0.column_dimensions['F'].width=10.44\n",
    "sheet0.column_dimensions['G'].width=15.67\n",
    "sheet0.column_dimensions['H'].width=15.67\n",
    "sheet0.column_dimensions['I'].width=15.67\n",
    "sheet0.column_dimensions['J'].width=15.67\n",
    "sheet0.column_dimensions['K'].width=8.11\n",
    "sheet0.column_dimensions['L'].width=10.44\n",
    "sheet0.column_dimensions['M'].width=17.22\n",
    "sheet0.column_dimensions['N'].width=8.11\n",
    "sheet0.column_dimensions['O'].width=8.11\n",
    "sheet0.column_dimensions['P'].width=8.11\n",
    "sheet0.column_dimensions['Q'].width=10.44"
   ],
   "metadata": {
    "collapsed": false,
    "pycharm": {
     "name": "#%%\n"
    }
   }
  },
  {
   "cell_type": "code",
   "execution_count": 635,
   "outputs": [],
   "source": [
    "for i in range(18,31):\n",
    "    sheet0.row_dimensions[i].height = 18\n",
    "for i in range(48,58):\n",
    "    sheet0.row_dimensions[i].height = 18"
   ],
   "metadata": {
    "collapsed": false,
    "pycharm": {
     "name": "#%%\n"
    }
   }
  },
  {
   "cell_type": "markdown",
   "source": [
    "## 2.2 设置字体样式"
   ],
   "metadata": {
    "collapsed": false,
    "pycharm": {
     "name": "#%% md\n"
    }
   }
  },
  {
   "cell_type": "code",
   "execution_count": 636,
   "outputs": [],
   "source": [
    "font1 = Font(name=\"宋体\", size=20, bold=True)\n",
    "sheet0['A1'].font = font1\n",
    "sheet0['A31'].font = font1\n"
   ],
   "metadata": {
    "collapsed": false,
    "pycharm": {
     "name": "#%%\n"
    }
   }
  },
  {
   "cell_type": "code",
   "execution_count": 637,
   "outputs": [],
   "source": [
    "font2 = Font(name=\"宋体\", size=16, bold=True)\n",
    "for rowOfCells in sheet0['A3:D3']:\n",
    "    for cell in rowOfCells:\n",
    "        cell.font = font2\n",
    "# sheet0.row_dimensions[3].font = font2\n",
    "for rowOfCells in sheet0['A33:D33']:\n",
    "    for cell in rowOfCells:\n",
    "        cell.font = font2\n",
    "# sheet0.row_dimensions[4].font = font2\n",
    "for rowOfCells in sheet0['A4:Q4']:\n",
    "    for cell in rowOfCells:\n",
    "        cell.font = font2\n",
    "for rowOfCells in sheet0['A34:Q34']:\n",
    "    for cell in rowOfCells:\n",
    "        cell.font = font2"
   ],
   "metadata": {
    "collapsed": false,
    "pycharm": {
     "name": "#%%\n"
    }
   }
  },
  {
   "cell_type": "code",
   "execution_count": 638,
   "outputs": [],
   "source": [
    "font3 = Font(name=\"宋体\", size=13, bold=True)\n",
    "\n",
    "sheet0.row_dimensions[5].font = font3\n",
    "for rowOfCells in sheet0['B5:P5']:\n",
    "    for cell in rowOfCells:\n",
    "        cell.font = font3\n",
    "for rowOfCells in sheet0['B35:P35']:\n",
    "    for cell in rowOfCells:\n",
    "        cell.font = font3\n",
    "for rowOfCells in sheet0['A6:A17']:\n",
    "    for cell in rowOfCells:\n",
    "        cell.font = font3\n",
    "for rowOfCells in sheet0['A36:A47']:\n",
    "    for cell in rowOfCells:\n",
    "        cell.font = font3"
   ],
   "metadata": {
    "collapsed": false,
    "pycharm": {
     "name": "#%%\n"
    }
   }
  },
  {
   "cell_type": "code",
   "execution_count": 639,
   "outputs": [],
   "source": [
    "font4 = Font(name=\"宋体\", size=11, bold=False)\n",
    "for rowOfCells in sheet0['B6:P17']:\n",
    "    for cell in rowOfCells:\n",
    "        cell.font = font4\n",
    "for rowOfCells in sheet0['B36:P47']:\n",
    "    for cell in rowOfCells:\n",
    "        cell.font = font4"
   ],
   "metadata": {
    "collapsed": false,
    "pycharm": {
     "name": "#%%\n"
    }
   }
  },
  {
   "cell_type": "markdown",
   "source": [
    "## 2.3 设置对齐"
   ],
   "metadata": {
    "collapsed": false,
    "pycharm": {
     "name": "#%% md\n"
    }
   }
  },
  {
   "cell_type": "code",
   "execution_count": 640,
   "outputs": [],
   "source": [
    "align = Alignment(horizontal='center',vertical='center')\n",
    "sheet0['A1'].alignment = align\n",
    "sheet0['A31'].alignment = align"
   ],
   "metadata": {
    "collapsed": false,
    "pycharm": {
     "name": "#%%\n"
    }
   }
  },
  {
   "cell_type": "code",
   "execution_count": 641,
   "outputs": [],
   "source": [
    "for rowOfCells in sheet0['A3:Q17']:\n",
    "    for cell in rowOfCells:\n",
    "        cell.alignment = align\n",
    "for rowOfCells in sheet0['A33:Q47']:\n",
    "    for cell in rowOfCells:\n",
    "        cell.alignment = align"
   ],
   "metadata": {
    "collapsed": false,
    "pycharm": {
     "name": "#%%\n"
    }
   }
  },
  {
   "cell_type": "markdown",
   "source": [
    "# 3. 烘烤温度"
   ],
   "metadata": {
    "collapsed": false,
    "pycharm": {
     "name": "#%% md\n"
    }
   }
  },
  {
   "cell_type": "markdown",
   "source": [
    "## 3.1 设置固定值\n"
   ],
   "metadata": {
    "collapsed": false,
    "pycharm": {
     "name": "#%% md\n"
    }
   }
  },
  {
   "cell_type": "code",
   "execution_count": null,
   "outputs": [],
   "source": [
    "sheet1['A1:O2']"
   ],
   "metadata": {
    "collapsed": false,
    "pycharm": {
     "name": "#%%\n"
    }
   }
  },
  {
   "cell_type": "markdown",
   "source": [
    "## 3.2 设置行高和列高"
   ],
   "metadata": {
    "collapsed": false,
    "pycharm": {
     "name": "#%% md\n"
    }
   }
  },
  {
   "cell_type": "markdown",
   "source": [
    "## 3.3 设置样式"
   ],
   "metadata": {
    "collapsed": false,
    "pycharm": {
     "name": "#%% md\n"
    }
   }
  },
  {
   "cell_type": "markdown",
   "source": [
    "## 3.4 设置对齐"
   ],
   "metadata": {
    "collapsed": false,
    "pycharm": {
     "name": "#%% md\n"
    }
   }
  },
  {
   "cell_type": "markdown",
   "source": [],
   "metadata": {
    "collapsed": false
   }
  },
  {
   "cell_type": "code",
   "execution_count": 642,
   "outputs": [],
   "source": [
    "date_today = (datetime.date.today()-datetime.timedelta(days=1)).strftime('%Y%m%d')\n",
    "wb.save(f'{date_today}真空记录运行表.xlsx')"
   ],
   "metadata": {
    "collapsed": false,
    "pycharm": {
     "name": "#%%\n"
    }
   }
  }
 ],
 "metadata": {
  "kernelspec": {
   "display_name": "Python 3",
   "language": "python",
   "name": "python3"
  },
  "language_info": {
   "codemirror_mode": {
    "name": "ipython",
    "version": 2
   },
   "file_extension": ".py",
   "mimetype": "text/x-python",
   "name": "python",
   "nbconvert_exporter": "python",
   "pygments_lexer": "ipython2",
   "version": "2.7.6"
  }
 },
 "nbformat": 4,
 "nbformat_minor": 0
}