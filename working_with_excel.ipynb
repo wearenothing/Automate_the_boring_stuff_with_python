{
 "cells": [
  {
   "cell_type": "code",
   "execution_count": 1,
   "metadata": {
    "collapsed": true
   },
   "outputs": [],
   "source": [
    "import openpyxl"
   ]
  },
  {
   "cell_type": "markdown",
   "source": [],
   "metadata": {
    "collapsed": false,
    "pycharm": {
     "name": "#%% md\n"
    }
   }
  },
  {
   "cell_type": "code",
   "execution_count": 16,
   "outputs": [
    {
     "data": {
      "text/plain": "openpyxl.workbook.workbook.Workbook"
     },
     "execution_count": 16,
     "metadata": {},
     "output_type": "execute_result"
    }
   ],
   "source": [
    "wb = openpyxl.load_workbook('automate_online-materials/example.xlsx')\n",
    "type(wb)"
   ],
   "metadata": {
    "collapsed": false,
    "pycharm": {
     "name": "#%%\n"
    }
   }
  },
  {
   "cell_type": "code",
   "execution_count": 20,
   "outputs": [],
   "source": [
    "#获取sheet\n",
    "sheet1 = wb.active #获取当前sheet，一般是第一个\n",
    "\n",
    "#创建sheet，并设置位置\n",
    "new_sheet = wb.create_sheet('new sheet',3)\n",
    "#设置sheet标题、背景颜色\n",
    "new_sheet.title='This is a new sheet'\n",
    "new_sheet.sheet_properties.tabColor = \"1072BA\"\n",
    "#复制sheet、删除sheet\n",
    "copy_sheet = wb.copy_worksheet(new_sheet)\n",
    "# wb.remove(copy_sheet)\n",
    "wb.save('new_example.xlsx')"
   ],
   "metadata": {
    "collapsed": false,
    "pycharm": {
     "name": "#%%\n"
    }
   }
  },
  {
   "cell_type": "code",
   "execution_count": 5,
   "outputs": [
    {
     "data": {
      "text/plain": "['Sheet1', 'Sheet2', 'Sheet3']"
     },
     "execution_count": 5,
     "metadata": {},
     "output_type": "execute_result"
    }
   ],
   "source": [
    "sheet_names = wb.sheetnames\n",
    "sheet_names"
   ],
   "metadata": {
    "collapsed": false,
    "pycharm": {
     "name": "#%%\n"
    }
   }
  },
  {
   "cell_type": "code",
   "execution_count": 9,
   "outputs": [
    {
     "data": {
      "text/plain": "openpyxl.worksheet.worksheet.Worksheet"
     },
     "execution_count": 9,
     "metadata": {},
     "output_type": "execute_result"
    }
   ],
   "source": [
    "sheet0 = wb[sheet_names[0]]\n",
    "type(sheet0)"
   ],
   "metadata": {
    "collapsed": false,
    "pycharm": {
     "name": "#%%\n"
    }
   }
  },
  {
   "cell_type": "code",
   "execution_count": 13,
   "outputs": [
    {
     "data": {
      "text/plain": "['__class__',\n '__contains__',\n '__delattr__',\n '__delitem__',\n '__dict__',\n '__dir__',\n '__doc__',\n '__eq__',\n '__format__',\n '__ge__',\n '__getattribute__',\n '__getitem__',\n '__gt__',\n '__hash__',\n '__init__',\n '__init_subclass__',\n '__iter__',\n '__le__',\n '__lt__',\n '__module__',\n '__ne__',\n '__new__',\n '__reduce__',\n '__reduce_ex__',\n '__repr__',\n '__setattr__',\n '__sizeof__',\n '__str__',\n '__subclasshook__',\n '__weakref__',\n '_add_sheet',\n '_data_only',\n '_duplicate_name',\n '_read_only',\n '_setup_styles',\n 'active',\n 'add_named_range',\n 'add_named_style',\n 'chartsheets',\n 'close',\n 'copy_worksheet',\n 'create_chartsheet',\n 'create_named_range',\n 'create_sheet',\n 'data_only',\n 'epoch',\n 'excel_base_date',\n 'get_index',\n 'get_named_range',\n 'get_named_ranges',\n 'get_sheet_by_name',\n 'get_sheet_names',\n 'index',\n 'mime_type',\n 'move_sheet',\n 'named_styles',\n 'path',\n 'read_only',\n 'remove',\n 'remove_named_range',\n 'remove_sheet',\n 'save',\n 'sheetnames',\n 'style_names',\n 'template',\n 'worksheets',\n 'write_only']"
     },
     "execution_count": 13,
     "metadata": {},
     "output_type": "execute_result"
    }
   ],
   "source": [
    "dir(openpyxl.workbook.workbook.Workbook)"
   ],
   "metadata": {
    "collapsed": false,
    "pycharm": {
     "name": "#%%\n"
    }
   }
  },
  {
   "cell_type": "code",
   "execution_count": null,
   "outputs": [],
   "source": [],
   "metadata": {
    "collapsed": false,
    "pycharm": {
     "name": "#%%\n"
    }
   }
  }
 ],
 "metadata": {
  "kernelspec": {
   "display_name": "Python 3",
   "language": "python",
   "name": "python3"
  },
  "language_info": {
   "codemirror_mode": {
    "name": "ipython",
    "version": 2
   },
   "file_extension": ".py",
   "mimetype": "text/x-python",
   "name": "python",
   "nbconvert_exporter": "python",
   "pygments_lexer": "ipython2",
   "version": "2.7.6"
  }
 },
 "nbformat": 4,
 "nbformat_minor": 0
}